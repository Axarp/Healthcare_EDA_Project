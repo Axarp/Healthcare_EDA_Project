{
 "cells": [
  {
   "cell_type": "markdown",
   "id": "e5556e81-8b2b-4de2-bcf7-d37c3fbf0e26",
   "metadata": {},
   "source": [
    "# EDA Project:"
   ]
  },
  {
   "cell_type": "markdown",
   "id": "6f8c5cde-35f4-49e1-93be-69248e706831",
   "metadata": {},
   "source": [
    "## Process Flow:"
   ]
  },
  {
   "cell_type": "markdown",
   "id": "f1bbf5af-9f8f-44dc-8585-6ae2d052c5b6",
   "metadata": {},
   "source": [
    "01. **Import the required libraries:**\n",
    "02. **Read and Understand the data:**\n",
    "    - **Data Cleaning:**\n",
    "03. **Data Exploration:**\n",
    "      - **Univariate Analysis:**\n",
    "      - **Binning:**\n",
    "      - **Bivariate analysis:**\n",
    "      - **Multivariate analysis:**\n",
    "04. **Communicate Insights:**\n",
    "      - **Executive Summary:**\n",
    "      - **Actionable Recommendations:**"
   ]
  },
  {
   "cell_type": "markdown",
   "id": "c332f35d-cde9-45c7-bc6b-82832e13177a",
   "metadata": {},
   "source": [
    "## Business Objective"
   ]
  },
  {
   "cell_type": "markdown",
   "id": "78d5425d-0564-4727-97e8-511956bf5531",
   "metadata": {},
   "source": [
    "-  **This dataset collects information from 100k medical appointments in Brazil and is focused on the question of whether or not patients show up for their appointment. A number of characteristics about the patient are included in each row. And which factors affect more on the attendance such as: (hypertension, diabetes, alcoholism and handicap), in adition age, gender or receiving sms.**\n",
    "\n",
    "-  Variables:\n",
    "   PatientId -->> A unique identifier for each Patient.\n",
    "\n",
    "- AppointmentID -->> A unique identifier for each appointment.\n",
    "\n",
    "- Gender -->> The gender of the patient.\n",
    "\n",
    "-  ScheduledDay -->> The date on which the appointment was booked or scheduled.\n",
    "\n",
    "-  AppointmentDay -->> The date on which the appointment was occur.\n",
    "\n",
    "-  Age -->> The age of the patient.\n",
    "\n",
    "-  Neighbourhood -->> Locality of the patient/clinic\n",
    "\n",
    "-  Hipertension(Boolean) ->> 0(Not Suffering)/ 1(Suffering)\n",
    "\n",
    "-  Diabetes(Boolean) -->> 0(Not Suffering)/ 1(Suffering)\n",
    "\n",
    "-  Alcoholism(Boolean) -->> 0(Not Suffering)/ 1(Suffering)\n",
    "\n",
    "-  Handcap(Boolean) -->> 0(Not a Handicap)/ 1(Handicap)\n",
    "\n",
    "-  Scholarship(Boolean) -->> Financial aid provided to patients. 1(Received)/ 0(Not Received)\n",
    "\n",
    "-  SMS_received(Boolean) -->> 0(Not Recieved)/ 1(Recieved)\n",
    "\n",
    "-  No-show -->> Indicates whether a patient missed their scheduled appointment. (\"Yes\" means they missed it, \"No\" means they attended)."
   ]
  },
  {
   "cell_type": "markdown",
   "id": "e54a584e-f9bb-4187-87e6-d3d952df6e59",
   "metadata": {},
   "source": [
    "# 1.Improting Library:"
   ]
  },
  {
   "cell_type": "code",
   "execution_count": 1,
   "id": "7f36672e-7893-4ed4-8684-e7dfc4d8d495",
   "metadata": {},
   "outputs": [],
   "source": [
    "# import neccesary librarie's\n",
    "import numpy as np\n",
    "import pandas as pd\n",
    "import matplotlib.pyplot as plt\n",
    "import seaborn as sns\n",
    "import datetime\n",
    "from time import strftime\n",
    "import warnings\n",
    "warnings.filterwarnings('ignore')"
   ]
  },
  {
   "cell_type": "markdown",
   "id": "2abc3c80-de4a-452f-b518-acfa5e5af09b",
   "metadata": {},
   "source": [
    "# 2.Read & Understand the data:"
   ]
  },
  {
   "cell_type": "code",
   "execution_count": 2,
   "id": "3ddf09e0-0467-4125-b57f-24a727e300b2",
   "metadata": {},
   "outputs": [
    {
     "data": {
      "text/html": [
       "<div>\n",
       "<style scoped>\n",
       "    .dataframe tbody tr th:only-of-type {\n",
       "        vertical-align: middle;\n",
       "    }\n",
       "\n",
       "    .dataframe tbody tr th {\n",
       "        vertical-align: top;\n",
       "    }\n",
       "\n",
       "    .dataframe thead th {\n",
       "        text-align: right;\n",
       "    }\n",
       "</style>\n",
       "<table border=\"1\" class=\"dataframe\">\n",
       "  <thead>\n",
       "    <tr style=\"text-align: right;\">\n",
       "      <th></th>\n",
       "      <th>PatientId</th>\n",
       "      <th>AppointmentID</th>\n",
       "      <th>Gender</th>\n",
       "      <th>ScheduledDay</th>\n",
       "      <th>AppointmentDay</th>\n",
       "      <th>Age</th>\n",
       "      <th>Neighbourhood</th>\n",
       "      <th>Scholarship</th>\n",
       "      <th>Hipertension</th>\n",
       "      <th>Diabetes</th>\n",
       "      <th>Alcoholism</th>\n",
       "      <th>Handcap</th>\n",
       "      <th>SMS_received</th>\n",
       "      <th>No-show</th>\n",
       "    </tr>\n",
       "  </thead>\n",
       "  <tbody>\n",
       "    <tr>\n",
       "      <th>0</th>\n",
       "      <td>2.987250e+13</td>\n",
       "      <td>5642903</td>\n",
       "      <td>F</td>\n",
       "      <td>2016-04-29T18:38:08Z</td>\n",
       "      <td>2016-04-29T00:00:00Z</td>\n",
       "      <td>62</td>\n",
       "      <td>JARDIM DA PENHA</td>\n",
       "      <td>0</td>\n",
       "      <td>1</td>\n",
       "      <td>0</td>\n",
       "      <td>0</td>\n",
       "      <td>0</td>\n",
       "      <td>0</td>\n",
       "      <td>No</td>\n",
       "    </tr>\n",
       "    <tr>\n",
       "      <th>1</th>\n",
       "      <td>5.589978e+14</td>\n",
       "      <td>5642503</td>\n",
       "      <td>M</td>\n",
       "      <td>2016-04-29T16:08:27Z</td>\n",
       "      <td>2016-04-29T00:00:00Z</td>\n",
       "      <td>56</td>\n",
       "      <td>JARDIM DA PENHA</td>\n",
       "      <td>0</td>\n",
       "      <td>0</td>\n",
       "      <td>0</td>\n",
       "      <td>0</td>\n",
       "      <td>0</td>\n",
       "      <td>0</td>\n",
       "      <td>No</td>\n",
       "    </tr>\n",
       "    <tr>\n",
       "      <th>2</th>\n",
       "      <td>4.262962e+12</td>\n",
       "      <td>5642549</td>\n",
       "      <td>F</td>\n",
       "      <td>2016-04-29T16:19:04Z</td>\n",
       "      <td>2016-04-29T00:00:00Z</td>\n",
       "      <td>62</td>\n",
       "      <td>MATA DA PRAIA</td>\n",
       "      <td>0</td>\n",
       "      <td>0</td>\n",
       "      <td>0</td>\n",
       "      <td>0</td>\n",
       "      <td>0</td>\n",
       "      <td>0</td>\n",
       "      <td>No</td>\n",
       "    </tr>\n",
       "    <tr>\n",
       "      <th>3</th>\n",
       "      <td>8.679512e+11</td>\n",
       "      <td>5642828</td>\n",
       "      <td>F</td>\n",
       "      <td>2016-04-29T17:29:31Z</td>\n",
       "      <td>2016-04-29T00:00:00Z</td>\n",
       "      <td>8</td>\n",
       "      <td>PONTAL DE CAMBURI</td>\n",
       "      <td>0</td>\n",
       "      <td>0</td>\n",
       "      <td>0</td>\n",
       "      <td>0</td>\n",
       "      <td>0</td>\n",
       "      <td>0</td>\n",
       "      <td>No</td>\n",
       "    </tr>\n",
       "    <tr>\n",
       "      <th>4</th>\n",
       "      <td>8.841186e+12</td>\n",
       "      <td>5642494</td>\n",
       "      <td>F</td>\n",
       "      <td>2016-04-29T16:07:23Z</td>\n",
       "      <td>2016-04-29T00:00:00Z</td>\n",
       "      <td>56</td>\n",
       "      <td>JARDIM DA PENHA</td>\n",
       "      <td>0</td>\n",
       "      <td>1</td>\n",
       "      <td>1</td>\n",
       "      <td>0</td>\n",
       "      <td>0</td>\n",
       "      <td>0</td>\n",
       "      <td>No</td>\n",
       "    </tr>\n",
       "  </tbody>\n",
       "</table>\n",
       "</div>"
      ],
      "text/plain": [
       "      PatientId  AppointmentID Gender          ScheduledDay  \\\n",
       "0  2.987250e+13        5642903      F  2016-04-29T18:38:08Z   \n",
       "1  5.589978e+14        5642503      M  2016-04-29T16:08:27Z   \n",
       "2  4.262962e+12        5642549      F  2016-04-29T16:19:04Z   \n",
       "3  8.679512e+11        5642828      F  2016-04-29T17:29:31Z   \n",
       "4  8.841186e+12        5642494      F  2016-04-29T16:07:23Z   \n",
       "\n",
       "         AppointmentDay  Age      Neighbourhood  Scholarship  Hipertension  \\\n",
       "0  2016-04-29T00:00:00Z   62    JARDIM DA PENHA            0             1   \n",
       "1  2016-04-29T00:00:00Z   56    JARDIM DA PENHA            0             0   \n",
       "2  2016-04-29T00:00:00Z   62      MATA DA PRAIA            0             0   \n",
       "3  2016-04-29T00:00:00Z    8  PONTAL DE CAMBURI            0             0   \n",
       "4  2016-04-29T00:00:00Z   56    JARDIM DA PENHA            0             1   \n",
       "\n",
       "   Diabetes  Alcoholism  Handcap  SMS_received No-show  \n",
       "0         0           0        0             0      No  \n",
       "1         0           0        0             0      No  \n",
       "2         0           0        0             0      No  \n",
       "3         0           0        0             0      No  \n",
       "4         1           0        0             0      No  "
      ]
     },
     "execution_count": 2,
     "metadata": {},
     "output_type": "execute_result"
    }
   ],
   "source": [
    "#reading the dataset\n",
    "df = pd.read_csv(r\"C:\\Users\\aksha\\Desktop\\Project's upload on github\\Self Project\\EDA Project's\\Medical_Appointments_Data\\Data.csv\")\n",
    "df.head()"
   ]
  },
  {
   "cell_type": "code",
   "execution_count": 3,
   "id": "7b391696-bf76-459e-89a0-bafa7c4844e6",
   "metadata": {},
   "outputs": [
    {
     "data": {
      "text/plain": [
       "(110527, 14)"
      ]
     },
     "execution_count": 3,
     "metadata": {},
     "output_type": "execute_result"
    }
   ],
   "source": [
    "#shape of the data\n",
    "df.shape"
   ]
  },
  {
   "cell_type": "code",
   "execution_count": 4,
   "id": "6d2b97da-6552-4677-88bc-7ae28df03793",
   "metadata": {},
   "outputs": [
    {
     "name": "stdout",
     "output_type": "stream",
     "text": [
      "<class 'pandas.core.frame.DataFrame'>\n",
      "RangeIndex: 110527 entries, 0 to 110526\n",
      "Data columns (total 14 columns):\n",
      " #   Column          Non-Null Count   Dtype  \n",
      "---  ------          --------------   -----  \n",
      " 0   PatientId       110527 non-null  float64\n",
      " 1   AppointmentID   110527 non-null  int64  \n",
      " 2   Gender          110527 non-null  object \n",
      " 3   ScheduledDay    110527 non-null  object \n",
      " 4   AppointmentDay  110527 non-null  object \n",
      " 5   Age             110527 non-null  int64  \n",
      " 6   Neighbourhood   110527 non-null  object \n",
      " 7   Scholarship     110527 non-null  int64  \n",
      " 8   Hipertension    110527 non-null  int64  \n",
      " 9   Diabetes        110527 non-null  int64  \n",
      " 10  Alcoholism      110527 non-null  int64  \n",
      " 11  Handcap         110527 non-null  int64  \n",
      " 12  SMS_received    110527 non-null  int64  \n",
      " 13  No-show         110527 non-null  object \n",
      "dtypes: float64(1), int64(8), object(5)\n",
      "memory usage: 11.8+ MB\n"
     ]
    }
   ],
   "source": [
    "# info. of the data\n",
    "df.info()"
   ]
  },
  {
   "cell_type": "markdown",
   "id": "57788814-5d52-42f0-9a04-85f291f60b91",
   "metadata": {},
   "source": [
    "- As we can see there is no nul value present in the dataset."
   ]
  },
  {
   "cell_type": "code",
   "execution_count": 5,
   "id": "a8413928-47c3-4f11-a368-5df8d9568a5a",
   "metadata": {},
   "outputs": [
    {
     "data": {
      "text/html": [
       "<div>\n",
       "<style scoped>\n",
       "    .dataframe tbody tr th:only-of-type {\n",
       "        vertical-align: middle;\n",
       "    }\n",
       "\n",
       "    .dataframe tbody tr th {\n",
       "        vertical-align: top;\n",
       "    }\n",
       "\n",
       "    .dataframe thead th {\n",
       "        text-align: right;\n",
       "    }\n",
       "</style>\n",
       "<table border=\"1\" class=\"dataframe\">\n",
       "  <thead>\n",
       "    <tr style=\"text-align: right;\">\n",
       "      <th></th>\n",
       "      <th>PatientId</th>\n",
       "      <th>AppointmentID</th>\n",
       "      <th>Age</th>\n",
       "      <th>Scholarship</th>\n",
       "      <th>Hipertension</th>\n",
       "      <th>Diabetes</th>\n",
       "      <th>Alcoholism</th>\n",
       "      <th>Handcap</th>\n",
       "      <th>SMS_received</th>\n",
       "    </tr>\n",
       "  </thead>\n",
       "  <tbody>\n",
       "    <tr>\n",
       "      <th>count</th>\n",
       "      <td>1.105270e+05</td>\n",
       "      <td>1.105270e+05</td>\n",
       "      <td>110527.000000</td>\n",
       "      <td>110527.000000</td>\n",
       "      <td>110527.000000</td>\n",
       "      <td>110527.000000</td>\n",
       "      <td>110527.000000</td>\n",
       "      <td>110527.000000</td>\n",
       "      <td>110527.000000</td>\n",
       "    </tr>\n",
       "    <tr>\n",
       "      <th>mean</th>\n",
       "      <td>1.474963e+14</td>\n",
       "      <td>5.675305e+06</td>\n",
       "      <td>37.088874</td>\n",
       "      <td>0.098266</td>\n",
       "      <td>0.197246</td>\n",
       "      <td>0.071865</td>\n",
       "      <td>0.030400</td>\n",
       "      <td>0.022248</td>\n",
       "      <td>0.321026</td>\n",
       "    </tr>\n",
       "    <tr>\n",
       "      <th>std</th>\n",
       "      <td>2.560949e+14</td>\n",
       "      <td>7.129575e+04</td>\n",
       "      <td>23.110205</td>\n",
       "      <td>0.297675</td>\n",
       "      <td>0.397921</td>\n",
       "      <td>0.258265</td>\n",
       "      <td>0.171686</td>\n",
       "      <td>0.161543</td>\n",
       "      <td>0.466873</td>\n",
       "    </tr>\n",
       "    <tr>\n",
       "      <th>min</th>\n",
       "      <td>3.921784e+04</td>\n",
       "      <td>5.030230e+06</td>\n",
       "      <td>-1.000000</td>\n",
       "      <td>0.000000</td>\n",
       "      <td>0.000000</td>\n",
       "      <td>0.000000</td>\n",
       "      <td>0.000000</td>\n",
       "      <td>0.000000</td>\n",
       "      <td>0.000000</td>\n",
       "    </tr>\n",
       "    <tr>\n",
       "      <th>25%</th>\n",
       "      <td>4.172614e+12</td>\n",
       "      <td>5.640286e+06</td>\n",
       "      <td>18.000000</td>\n",
       "      <td>0.000000</td>\n",
       "      <td>0.000000</td>\n",
       "      <td>0.000000</td>\n",
       "      <td>0.000000</td>\n",
       "      <td>0.000000</td>\n",
       "      <td>0.000000</td>\n",
       "    </tr>\n",
       "    <tr>\n",
       "      <th>50%</th>\n",
       "      <td>3.173184e+13</td>\n",
       "      <td>5.680573e+06</td>\n",
       "      <td>37.000000</td>\n",
       "      <td>0.000000</td>\n",
       "      <td>0.000000</td>\n",
       "      <td>0.000000</td>\n",
       "      <td>0.000000</td>\n",
       "      <td>0.000000</td>\n",
       "      <td>0.000000</td>\n",
       "    </tr>\n",
       "    <tr>\n",
       "      <th>75%</th>\n",
       "      <td>9.439172e+13</td>\n",
       "      <td>5.725524e+06</td>\n",
       "      <td>55.000000</td>\n",
       "      <td>0.000000</td>\n",
       "      <td>0.000000</td>\n",
       "      <td>0.000000</td>\n",
       "      <td>0.000000</td>\n",
       "      <td>0.000000</td>\n",
       "      <td>1.000000</td>\n",
       "    </tr>\n",
       "    <tr>\n",
       "      <th>max</th>\n",
       "      <td>9.999816e+14</td>\n",
       "      <td>5.790484e+06</td>\n",
       "      <td>115.000000</td>\n",
       "      <td>1.000000</td>\n",
       "      <td>1.000000</td>\n",
       "      <td>1.000000</td>\n",
       "      <td>1.000000</td>\n",
       "      <td>4.000000</td>\n",
       "      <td>1.000000</td>\n",
       "    </tr>\n",
       "  </tbody>\n",
       "</table>\n",
       "</div>"
      ],
      "text/plain": [
       "          PatientId  AppointmentID            Age    Scholarship  \\\n",
       "count  1.105270e+05   1.105270e+05  110527.000000  110527.000000   \n",
       "mean   1.474963e+14   5.675305e+06      37.088874       0.098266   \n",
       "std    2.560949e+14   7.129575e+04      23.110205       0.297675   \n",
       "min    3.921784e+04   5.030230e+06      -1.000000       0.000000   \n",
       "25%    4.172614e+12   5.640286e+06      18.000000       0.000000   \n",
       "50%    3.173184e+13   5.680573e+06      37.000000       0.000000   \n",
       "75%    9.439172e+13   5.725524e+06      55.000000       0.000000   \n",
       "max    9.999816e+14   5.790484e+06     115.000000       1.000000   \n",
       "\n",
       "        Hipertension       Diabetes     Alcoholism        Handcap  \\\n",
       "count  110527.000000  110527.000000  110527.000000  110527.000000   \n",
       "mean        0.197246       0.071865       0.030400       0.022248   \n",
       "std         0.397921       0.258265       0.171686       0.161543   \n",
       "min         0.000000       0.000000       0.000000       0.000000   \n",
       "25%         0.000000       0.000000       0.000000       0.000000   \n",
       "50%         0.000000       0.000000       0.000000       0.000000   \n",
       "75%         0.000000       0.000000       0.000000       0.000000   \n",
       "max         1.000000       1.000000       1.000000       4.000000   \n",
       "\n",
       "        SMS_received  \n",
       "count  110527.000000  \n",
       "mean        0.321026  \n",
       "std         0.466873  \n",
       "min         0.000000  \n",
       "25%         0.000000  \n",
       "50%         0.000000  \n",
       "75%         1.000000  \n",
       "max         1.000000  "
      ]
     },
     "execution_count": 5,
     "metadata": {},
     "output_type": "execute_result"
    }
   ],
   "source": [
    "#stttistical info. of the data\n",
    "df.describe()"
   ]
  },
  {
   "cell_type": "markdown",
   "id": "11c0e77d-43fa-47e1-809c-22f21cbab5d3",
   "metadata": {},
   "source": [
    "## 2.1 Data Cleaning:"
   ]
  },
  {
   "cell_type": "code",
   "execution_count": 6,
   "id": "a998d829-f26e-43a9-9eab-bc3ff5037e7f",
   "metadata": {},
   "outputs": [
    {
     "data": {
      "text/plain": [
       "Index(['PatientId', 'AppointmentID', 'Gender', 'ScheduledDay',\n",
       "       'AppointmentDay', 'Age', 'Neighbourhood', 'Scholarship', 'Hipertension',\n",
       "       'Diabetes', 'Alcoholism', 'Handcap', 'SMS_received', 'No-show'],\n",
       "      dtype='object')"
      ]
     },
     "execution_count": 6,
     "metadata": {},
     "output_type": "execute_result"
    }
   ],
   "source": [
    "#all column name from the data\n",
    "df.columns"
   ]
  },
  {
   "cell_type": "code",
   "execution_count": 7,
   "id": "62d16a87-003a-4863-92f3-27e1173dab1a",
   "metadata": {},
   "outputs": [],
   "source": [
    "#correcting the column names\n",
    "df = df.rename(columns={'Hipertension': 'Hypertension', 'Handcap': 'Handicap'})"
   ]
  },
  {
   "cell_type": "code",
   "execution_count": 8,
   "id": "e23dfd5d-d2ae-4bb3-88f3-6e6bc7e56db4",
   "metadata": {},
   "outputs": [],
   "source": [
    "# deleting unnecessary columns\n",
    "df.drop(['AppointmentID','PatientId','Neighbourhood'],axis=1, inplace=True )"
   ]
  },
  {
   "cell_type": "markdown",
   "id": "889e9e4a-83ca-4dda-afdc-651bd8ac8d7f",
   "metadata": {},
   "source": [
    "-  Delete AppointmentID and PatientID as it is a uniqu i.d and dosent give much information."
   ]
  },
  {
   "cell_type": "code",
   "execution_count": 9,
   "id": "154bea12-c53f-445f-b6d0-413d0631e819",
   "metadata": {},
   "outputs": [
    {
     "data": {
      "text/html": [
       "<div>\n",
       "<style scoped>\n",
       "    .dataframe tbody tr th:only-of-type {\n",
       "        vertical-align: middle;\n",
       "    }\n",
       "\n",
       "    .dataframe tbody tr th {\n",
       "        vertical-align: top;\n",
       "    }\n",
       "\n",
       "    .dataframe thead th {\n",
       "        text-align: right;\n",
       "    }\n",
       "</style>\n",
       "<table border=\"1\" class=\"dataframe\">\n",
       "  <thead>\n",
       "    <tr style=\"text-align: right;\">\n",
       "      <th></th>\n",
       "      <th>Gender</th>\n",
       "      <th>ScheduledDay</th>\n",
       "      <th>AppointmentDay</th>\n",
       "      <th>Age</th>\n",
       "      <th>Scholarship</th>\n",
       "      <th>Hypertension</th>\n",
       "      <th>Diabetes</th>\n",
       "      <th>Alcoholism</th>\n",
       "      <th>Handicap</th>\n",
       "      <th>SMS_received</th>\n",
       "      <th>No-show</th>\n",
       "    </tr>\n",
       "  </thead>\n",
       "  <tbody>\n",
       "    <tr>\n",
       "      <th>0</th>\n",
       "      <td>F</td>\n",
       "      <td>2016-04-29</td>\n",
       "      <td>2016-04-29</td>\n",
       "      <td>62</td>\n",
       "      <td>0</td>\n",
       "      <td>1</td>\n",
       "      <td>0</td>\n",
       "      <td>0</td>\n",
       "      <td>0</td>\n",
       "      <td>0</td>\n",
       "      <td>No</td>\n",
       "    </tr>\n",
       "    <tr>\n",
       "      <th>1</th>\n",
       "      <td>M</td>\n",
       "      <td>2016-04-29</td>\n",
       "      <td>2016-04-29</td>\n",
       "      <td>56</td>\n",
       "      <td>0</td>\n",
       "      <td>0</td>\n",
       "      <td>0</td>\n",
       "      <td>0</td>\n",
       "      <td>0</td>\n",
       "      <td>0</td>\n",
       "      <td>No</td>\n",
       "    </tr>\n",
       "    <tr>\n",
       "      <th>2</th>\n",
       "      <td>F</td>\n",
       "      <td>2016-04-29</td>\n",
       "      <td>2016-04-29</td>\n",
       "      <td>62</td>\n",
       "      <td>0</td>\n",
       "      <td>0</td>\n",
       "      <td>0</td>\n",
       "      <td>0</td>\n",
       "      <td>0</td>\n",
       "      <td>0</td>\n",
       "      <td>No</td>\n",
       "    </tr>\n",
       "    <tr>\n",
       "      <th>3</th>\n",
       "      <td>F</td>\n",
       "      <td>2016-04-29</td>\n",
       "      <td>2016-04-29</td>\n",
       "      <td>8</td>\n",
       "      <td>0</td>\n",
       "      <td>0</td>\n",
       "      <td>0</td>\n",
       "      <td>0</td>\n",
       "      <td>0</td>\n",
       "      <td>0</td>\n",
       "      <td>No</td>\n",
       "    </tr>\n",
       "    <tr>\n",
       "      <th>4</th>\n",
       "      <td>F</td>\n",
       "      <td>2016-04-29</td>\n",
       "      <td>2016-04-29</td>\n",
       "      <td>56</td>\n",
       "      <td>0</td>\n",
       "      <td>1</td>\n",
       "      <td>1</td>\n",
       "      <td>0</td>\n",
       "      <td>0</td>\n",
       "      <td>0</td>\n",
       "      <td>No</td>\n",
       "    </tr>\n",
       "  </tbody>\n",
       "</table>\n",
       "</div>"
      ],
      "text/plain": [
       "  Gender ScheduledDay AppointmentDay  Age  Scholarship  Hypertension  \\\n",
       "0      F   2016-04-29     2016-04-29   62            0             1   \n",
       "1      M   2016-04-29     2016-04-29   56            0             0   \n",
       "2      F   2016-04-29     2016-04-29   62            0             0   \n",
       "3      F   2016-04-29     2016-04-29    8            0             0   \n",
       "4      F   2016-04-29     2016-04-29   56            0             1   \n",
       "\n",
       "   Diabetes  Alcoholism  Handicap  SMS_received No-show  \n",
       "0         0           0         0             0      No  \n",
       "1         0           0         0             0      No  \n",
       "2         0           0         0             0      No  \n",
       "3         0           0         0             0      No  \n",
       "4         1           0         0             0      No  "
      ]
     },
     "execution_count": 9,
     "metadata": {},
     "output_type": "execute_result"
    }
   ],
   "source": [
    "# using derive metrix changing the ScheduledDay and AppointmentDay column to getting dates.\n",
    "df['ScheduledDay'] = pd.to_datetime(df['ScheduledDay']).dt.date.astype('datetime64[ns]')\n",
    "df['AppointmentDay'] = pd.to_datetime(df['AppointmentDay']).dt.date.astype('datetime64[ns]')\n",
    "df.head()"
   ]
  },
  {
   "cell_type": "code",
   "execution_count": 10,
   "id": "a911bdcb-faf5-4730-9118-3249c7532a98",
   "metadata": {},
   "outputs": [
    {
     "name": "stdout",
     "output_type": "stream",
     "text": [
      "2015-11-10 00:00:00\n",
      "2016-06-08 00:00:00\n"
     ]
    }
   ],
   "source": [
    "# checking minimum and maximum dates of ScheduledDay data .\n",
    "max_date = df['ScheduledDay'].max()\n",
    "min_date = df['ScheduledDay'].min()\n",
    "print(min_date)\n",
    "print(max_date)"
   ]
  },
  {
   "cell_type": "code",
   "execution_count": 11,
   "id": "67c59a53-118f-48e3-8315-67258f8f8354",
   "metadata": {},
   "outputs": [
    {
     "name": "stdout",
     "output_type": "stream",
     "text": [
      "2016-04-29 00:00:00\n",
      "2016-06-08 00:00:00\n"
     ]
    }
   ],
   "source": [
    "# checking minimum and maximum dates of AppointmentDay data.\n",
    "max_date_1 = df['AppointmentDay'].max()\n",
    "min_date_1 = df['AppointmentDay'].min()\n",
    "print(min_date_1)\n",
    "print(max_date_1)"
   ]
  },
  {
   "cell_type": "markdown",
   "id": "0a11617d-ba19-4b35-832b-6da1446fe294",
   "metadata": {},
   "source": [
    "-  From this, we observe that the data spans approximately 8 months in the ScheduledDay column, from 10-11-2015 to 08-06-2016.\n",
    "-  In contrast, the AppointmentDay column contains data for only 2 months, from 29-04-2016 to 08-06-2016.\n",
    "-  we can infer that,people used to book appoinment in between 10-11-2015 to 29-04-2016 and start visiting from 29-04-2016"
   ]
  },
  {
   "cell_type": "code",
   "execution_count": 12,
   "id": "6dc4880e-c5ca-44a7-acd7-1caa7fc58600",
   "metadata": {},
   "outputs": [],
   "source": [
    "# segregate days (in 7 days pattern) of two columns (ScheduledDay and AppointmentDay)\n",
    "df['sch_weekday'] = df['ScheduledDay'].dt.dayofweek\n",
    "df['app_weekday'] = df['AppointmentDay'].dt.dayofweek"
   ]
  },
  {
   "cell_type": "code",
   "execution_count": 13,
   "id": "50c70b82-f918-4e7d-831f-c77686d461d4",
   "metadata": {},
   "outputs": [
    {
     "data": {
      "text/plain": [
       "<Axes: xlabel='app_weekday'>"
      ]
     },
     "execution_count": 13,
     "metadata": {},
     "output_type": "execute_result"
    },
    {
     "data": {
      "image/png": "[encoded data removed]",
      "text/plain": [
       "<Figure size 640x480 with 1 Axes>"
      ]
     },
     "metadata": {},
     "output_type": "display_data"
    }
   ],
   "source": [
    "df.app_weekday.value_counts().plot.bar()"
   ]
  },
  {
   "cell_type": "code",
   "execution_count": 14,
   "id": "f7479629-3062-4635-b606-884c75003d9c",
   "metadata": {},
   "outputs": [
    {
     "data": {
      "text/plain": [
       "<Axes: xlabel='sch_weekday'>"
      ]
     },
     "execution_count": 14,
     "metadata": {},
     "output_type": "execute_result"
    },
    {
     "data": {
      "image/png": "[encoded data removed]",
      "text/plain": [
       "<Figure size 640x480 with 1 Axes>"
      ]
     },
     "metadata": {},
     "output_type": "display_data"
    }
   ],
   "source": [
    "df.sch_weekday.value_counts().plot.bar()"
   ]
  },
  {
   "cell_type": "markdown",
   "id": "a64a263a-b4d3-4b5a-adb5-6cf403b77c1f",
   "metadata": {},
   "source": [
    "-  From this bar graph, we can see that the hospital operates on weekdays and is closed on weekends.\n",
    "-  On weekdays, there is a significant rush on Wednesdays and Tuesdays (around 25,000), which gradually decreases from Thursday to Saturday and then starts increasing again from Monday.\n",
    "-  Hospital is not working on Sunday. \n",
    "- Therefore, there is an increasing trend from Monday to Wednesday, followed by a gradual decline."
   ]
  },
  {
   "cell_type": "markdown",
   "id": "6ae1486b-b241-47e0-b5cd-cf54d9353e3b",
   "metadata": {},
   "source": [
    "# 3 Data Exploration:"
   ]
  },
  {
   "cell_type": "markdown",
   "id": "777b3ea0-f86a-44cf-88fe-9c3fe1ff72f5",
   "metadata": {},
   "source": [
    ">  \"I'm going to analyze each and every column using bar charts and  various functions to understand the data better.\""
   ]
  },
  {
   "cell_type": "code",
   "execution_count": 15,
   "id": "2c815da0-b81d-40f6-85b2-11f7c067a165",
   "metadata": {},
   "outputs": [
    {
     "name": "stdout",
     "output_type": "stream",
     "text": [
      "<class 'pandas.core.frame.DataFrame'>\n",
      "RangeIndex: 110527 entries, 0 to 110526\n",
      "Data columns (total 13 columns):\n",
      " #   Column          Non-Null Count   Dtype         \n",
      "---  ------          --------------   -----         \n",
      " 0   Gender          110527 non-null  object        \n",
      " 1   ScheduledDay    110527 non-null  datetime64[ns]\n",
      " 2   AppointmentDay  110527 non-null  datetime64[ns]\n",
      " 3   Age             110527 non-null  int64         \n",
      " 4   Scholarship     110527 non-null  int64         \n",
      " 5   Hypertension    110527 non-null  int64         \n",
      " 6   Diabetes        110527 non-null  int64         \n",
      " 7   Alcoholism      110527 non-null  int64         \n",
      " 8   Handicap        110527 non-null  int64         \n",
      " 9   SMS_received    110527 non-null  int64         \n",
      " 10  No-show         110527 non-null  object        \n",
      " 11  sch_weekday     110527 non-null  int32         \n",
      " 12  app_weekday     110527 non-null  int32         \n",
      "dtypes: datetime64[ns](2), int32(2), int64(7), object(2)\n",
      "memory usage: 10.1+ MB\n"
     ]
    }
   ],
   "source": [
    "df.info()"
   ]
  },
  {
   "cell_type": "markdown",
   "id": "5103f01c-904c-4ce4-8a0a-763647a3f7fd",
   "metadata": {},
   "source": [
    "## 3.1 Univariate Analysis:"
   ]
  },
  {
   "cell_type": "code",
   "execution_count": 16,
   "id": "3a70647f-26b4-4f74-ab2d-694064350a0b",
   "metadata": {},
   "outputs": [
    {
     "name": "stdout",
     "output_type": "stream",
     "text": [
      "Gender\n",
      "F    71840\n",
      "M    38687\n",
      "Name: count, dtype: int64\n"
     ]
    },
    {
     "data": {
      "text/plain": [
       "<function matplotlib.pyplot.show(close=None, block=None)>"
      ]
     },
     "execution_count": 16,
     "metadata": {},
     "output_type": "execute_result"
    },
    {
     "data": {
      "image/png": "[encoded data removed]",
      "text/plain": [
       "<Figure size 640x480 with 1 Axes>"
      ]
     },
     "metadata": {},
     "output_type": "display_data"
    }
   ],
   "source": [
    "#check gender column\n",
    "gender_count = df['Gender'].value_counts()\n",
    "print(gender_count)\n",
    "df['Gender'].value_counts().plot(kind = 'bar')\n",
    "plt.show"
   ]
  },
  {
   "cell_type": "markdown",
   "id": "88ab4eef-dd44-4827-a0b2-d124b5ba1dcf",
   "metadata": {},
   "source": [
    "-  We can observe that our dataset primarily consists of two genders, with a higher number of females compared to males."
   ]
  },
  {
   "cell_type": "code",
   "execution_count": 17,
   "id": "22b6c129-514c-447d-a6c2-712ee335bce2",
   "metadata": {},
   "outputs": [
    {
     "data": {
      "text/html": [
       "<div>\n",
       "<style scoped>\n",
       "    .dataframe tbody tr th:only-of-type {\n",
       "        vertical-align: middle;\n",
       "    }\n",
       "\n",
       "    .dataframe tbody tr th {\n",
       "        vertical-align: top;\n",
       "    }\n",
       "\n",
       "    .dataframe thead th {\n",
       "        text-align: right;\n",
       "    }\n",
       "</style>\n",
       "<table border=\"1\" class=\"dataframe\">\n",
       "  <thead>\n",
       "    <tr style=\"text-align: right;\">\n",
       "      <th></th>\n",
       "      <th>Age</th>\n",
       "      <th>Count</th>\n",
       "    </tr>\n",
       "  </thead>\n",
       "  <tbody>\n",
       "    <tr>\n",
       "      <th>0</th>\n",
       "      <td>0</td>\n",
       "      <td>62</td>\n",
       "    </tr>\n",
       "    <tr>\n",
       "      <th>1</th>\n",
       "      <td>1</td>\n",
       "      <td>56</td>\n",
       "    </tr>\n",
       "    <tr>\n",
       "      <th>2</th>\n",
       "      <td>2</td>\n",
       "      <td>62</td>\n",
       "    </tr>\n",
       "    <tr>\n",
       "      <th>3</th>\n",
       "      <td>3</td>\n",
       "      <td>8</td>\n",
       "    </tr>\n",
       "    <tr>\n",
       "      <th>4</th>\n",
       "      <td>4</td>\n",
       "      <td>56</td>\n",
       "    </tr>\n",
       "    <tr>\n",
       "      <th>...</th>\n",
       "      <td>...</td>\n",
       "      <td>...</td>\n",
       "    </tr>\n",
       "    <tr>\n",
       "      <th>110522</th>\n",
       "      <td>110522</td>\n",
       "      <td>56</td>\n",
       "    </tr>\n",
       "    <tr>\n",
       "      <th>110523</th>\n",
       "      <td>110523</td>\n",
       "      <td>51</td>\n",
       "    </tr>\n",
       "    <tr>\n",
       "      <th>110524</th>\n",
       "      <td>110524</td>\n",
       "      <td>21</td>\n",
       "    </tr>\n",
       "    <tr>\n",
       "      <th>110525</th>\n",
       "      <td>110525</td>\n",
       "      <td>38</td>\n",
       "    </tr>\n",
       "    <tr>\n",
       "      <th>110526</th>\n",
       "      <td>110526</td>\n",
       "      <td>54</td>\n",
       "    </tr>\n",
       "  </tbody>\n",
       "</table>\n",
       "<p>110527 rows × 2 columns</p>\n",
       "</div>"
      ],
      "text/plain": [
       "           Age  Count\n",
       "0            0     62\n",
       "1            1     56\n",
       "2            2     62\n",
       "3            3      8\n",
       "4            4     56\n",
       "...        ...    ...\n",
       "110522  110522     56\n",
       "110523  110523     51\n",
       "110524  110524     21\n",
       "110525  110525     38\n",
       "110526  110526     54\n",
       "\n",
       "[110527 rows x 2 columns]"
      ]
     },
     "execution_count": 17,
     "metadata": {},
     "output_type": "execute_result"
    }
   ],
   "source": [
    "# #check Age column using DataFrame\n",
    "age_count = df['Age'].reset_index()\n",
    "age_count.columns = ['Age', 'Count']\n",
    "age_count"
   ]
  },
  {
   "cell_type": "code",
   "execution_count": 18,
   "id": "04886c85-5fc6-4b00-893d-1168f9e7204a",
   "metadata": {},
   "outputs": [
    {
     "name": "stdout",
     "output_type": "stream",
     "text": [
      "115\n",
      "-1\n"
     ]
    }
   ],
   "source": [
    "#checking the min age and max age in our dataframe\n",
    "print(df['Age'].max())\n",
    "print(df['Age'].min())           # unexpected age value"
   ]
  },
  {
   "cell_type": "code",
   "execution_count": 19,
   "id": "1d0411df-7b29-434c-9d9d-e9307a11ba22",
   "metadata": {},
   "outputs": [
    {
     "name": "stdout",
     "output_type": "stream",
     "text": [
      "Scholarship\n",
      "0    99666\n",
      "1    10861\n",
      "Name: count, dtype: int64\n"
     ]
    },
    {
     "data": {
      "text/plain": [
       "<function matplotlib.pyplot.show(close=None, block=None)>"
      ]
     },
     "execution_count": 19,
     "metadata": {},
     "output_type": "execute_result"
    },
    {
     "data": {
      "image/png": "[encoded data removed]",
      "text/plain": [
       "<Figure size 640x480 with 1 Axes>"
      ]
     },
     "metadata": {},
     "output_type": "display_data"
    }
   ],
   "source": [
    "#check Scholarship column\n",
    "Scholarship_count = df['Scholarship'].value_counts()\n",
    "print(Scholarship_count)\n",
    "df['Scholarship'].value_counts().plot(kind = 'bar')\n",
    "plt.show"
   ]
  },
  {
   "cell_type": "markdown",
   "id": "22fc8685-edc7-42a4-8d2a-709e4cf31490",
   "metadata": {},
   "source": [
    "-  A majority of people did not receive scholarships, which might be a reason for their not returning."
   ]
  },
  {
   "cell_type": "code",
   "execution_count": 20,
   "id": "88a552b0-6966-4096-b9dd-b53f9a343bc2",
   "metadata": {},
   "outputs": [
    {
     "name": "stdout",
     "output_type": "stream",
     "text": [
      "Hypertension\n",
      "0    88726\n",
      "1    21801\n",
      "Name: count, dtype: int64\n"
     ]
    },
    {
     "data": {
      "text/plain": [
       "<function matplotlib.pyplot.show(close=None, block=None)>"
      ]
     },
     "execution_count": 20,
     "metadata": {},
     "output_type": "execute_result"
    },
    {
     "data": {
      "image/png": "[encoded data removed]",
      "text/plain": [
       "<Figure size 640x480 with 1 Axes>"
      ]
     },
     "metadata": {},
     "output_type": "display_data"
    }
   ],
   "source": [
    "#check Hypertension column\n",
    "Hypertension_count = df['Hypertension'].value_counts()\n",
    "print(Hypertension_count)\n",
    "df['Hypertension'].value_counts().plot(kind = 'bar')\n",
    "plt.show"
   ]
  },
  {
   "cell_type": "markdown",
   "id": "d7b6cfc5-ea59-4bcd-8ab4-11fd0047b894",
   "metadata": {},
   "source": [
    "-  Among the data, we have around 22,000 people (20%) who are suffering from hypertension problem."
   ]
  },
  {
   "cell_type": "code",
   "execution_count": 21,
   "id": "c7504da5-b7fc-4f59-860f-f2b7c2b12e63",
   "metadata": {},
   "outputs": [
    {
     "name": "stdout",
     "output_type": "stream",
     "text": [
      "Diabetes\n",
      "0    102584\n",
      "1      7943\n",
      "Name: count, dtype: int64\n"
     ]
    },
    {
     "data": {
      "text/plain": [
       "<function matplotlib.pyplot.show(close=None, block=None)>"
      ]
     },
     "execution_count": 21,
     "metadata": {},
     "output_type": "execute_result"
    },
    {
     "data": {
      "image/png": "[encoded data removed]",
      "text/plain": [
       "<Figure size 640x480 with 1 Axes>"
      ]
     },
     "metadata": {},
     "output_type": "display_data"
    }
   ],
   "source": [
    "#check Diabetes column\n",
    "Diabetes_count = df['Diabetes'].value_counts()\n",
    "print(Diabetes_count)\n",
    "df['Diabetes'].value_counts().plot(kind = 'bar')\n",
    "plt.show"
   ]
  },
  {
   "cell_type": "markdown",
   "id": "2f6ca58a-6ea2-4ca6-9e99-ea5d3c9dc187",
   "metadata": {},
   "source": [
    "-  Among the data, we have around 8000 people (8%) who are suffering from Diabetes problem."
   ]
  },
  {
   "cell_type": "code",
   "execution_count": 22,
   "id": "2c6aab2a-8779-467a-aa40-ceb2e5fda09f",
   "metadata": {},
   "outputs": [
    {
     "name": "stdout",
     "output_type": "stream",
     "text": [
      "Alcoholism\n",
      "0    107167\n",
      "1      3360\n",
      "Name: count, dtype: int64\n"
     ]
    },
    {
     "data": {
      "text/plain": [
       "<function matplotlib.pyplot.show(close=None, block=None)>"
      ]
     },
     "execution_count": 22,
     "metadata": {},
     "output_type": "execute_result"
    },
    {
     "data": {
      "image/png": "[encoded data removed]",
      "text/plain": [
       "<Figure size 640x480 with 1 Axes>"
      ]
     },
     "metadata": {},
     "output_type": "display_data"
    }
   ],
   "source": [
    "#check Alcoholism column\n",
    "Alcoholism_count = df['Alcoholism'].value_counts()\n",
    "print(Alcoholism_count)\n",
    "df['Alcoholism'].value_counts().plot(kind = 'bar')\n",
    "plt.show"
   ]
  },
  {
   "cell_type": "markdown",
   "id": "f8712afd-23c4-4ab7-8c39-3535f7697cf9",
   "metadata": {},
   "source": [
    "-  As we can see there are majority of people who are not suffering from alcoholism problem and rest in 3000 (3%) we have critical situation in alchoholism."
   ]
  },
  {
   "cell_type": "code",
   "execution_count": 23,
   "id": "4c615822-5a22-4b4e-af1f-f47cae0f7e45",
   "metadata": {},
   "outputs": [
    {
     "name": "stdout",
     "output_type": "stream",
     "text": [
      "Handicap\n",
      "0    108286\n",
      "1      2042\n",
      "2       183\n",
      "3        13\n",
      "4         3\n",
      "Name: count, dtype: int64\n"
     ]
    }
   ],
   "source": [
    "#check Handicap column\n",
    "Handicap_count = df['Handicap'].value_counts()\n",
    "print(Handicap_count)"
   ]
  },
  {
   "cell_type": "code",
   "execution_count": 24,
   "id": "5d24f816-175c-4da4-8165-592e3e6cdd78",
   "metadata": {},
   "outputs": [],
   "source": [
    "# dropping the values for Handicap otherthan 0 & 1 as rest of the didnt give much information.\n",
    "df.drop(df[df['Handicap'] > 1].index, inplace=True)"
   ]
  },
  {
   "cell_type": "code",
   "execution_count": 25,
   "id": "2b4aa0e6-830d-4e16-b32d-33156a67f4a5",
   "metadata": {},
   "outputs": [
    {
     "data": {
      "text/plain": [
       "<function matplotlib.pyplot.show(close=None, block=None)>"
      ]
     },
     "execution_count": 25,
     "metadata": {},
     "output_type": "execute_result"
    },
    {
     "data": {
      "image/png": "[encoded data removed]",
      "text/plain": [
       "<Figure size 640x480 with 1 Axes>"
      ]
     },
     "metadata": {},
     "output_type": "display_data"
    }
   ],
   "source": [
    "#plot graph for Handicap column\n",
    "df['Handicap'].value_counts().plot(kind = 'bar')\n",
    "plt.show"
   ]
  },
  {
   "cell_type": "markdown",
   "id": "3cecad69-45e4-42b1-a22c-2eabf3852f54",
   "metadata": {},
   "source": [
    "- We have data for 3000 (3%) individuals who are actually disabled. Additionally, they might be suffering from alcoholism."
   ]
  },
  {
   "cell_type": "code",
   "execution_count": 26,
   "id": "9361b100-13a0-4c64-a9c8-77f30ef44d81",
   "metadata": {},
   "outputs": [
    {
     "name": "stdout",
     "output_type": "stream",
     "text": [
      "SMS_received\n",
      "0    74893\n",
      "1    35435\n",
      "Name: count, dtype: int64\n"
     ]
    },
    {
     "data": {
      "text/plain": [
       "<function matplotlib.pyplot.show(close=None, block=None)>"
      ]
     },
     "execution_count": 26,
     "metadata": {},
     "output_type": "execute_result"
    },
    {
     "data": {
      "image/png": "[encoded data removed]",
      "text/plain": [
       "<Figure size 640x480 with 1 Axes>"
      ]
     },
     "metadata": {},
     "output_type": "display_data"
    }
   ],
   "source": [
    "#check SMS_received column\n",
    "SMS_received_count = df['SMS_received'].value_counts()\n",
    "print(SMS_received_count)\n",
    "df['SMS_received'].value_counts().plot(kind = 'bar')\n",
    "plt.show "
   ]
  },
  {
   "cell_type": "markdown",
   "id": "e81be170-9d30-41b3-9688-4500a0ecc53d",
   "metadata": {},
   "source": [
    "- Most of the people(almost 50% of the data) did not receive a message wich indicates as 1."
   ]
  },
  {
   "cell_type": "code",
   "execution_count": 27,
   "id": "7b9647d6-9f1d-4086-87ca-0e597adfe2cc",
   "metadata": {},
   "outputs": [
    {
     "name": "stdout",
     "output_type": "stream",
     "text": [
      "No-show\n",
      "No     88050\n",
      "Yes    22278\n",
      "Name: count, dtype: int64\n"
     ]
    },
    {
     "data": {
      "text/plain": [
       "<function matplotlib.pyplot.show(close=None, block=None)>"
      ]
     },
     "execution_count": 27,
     "metadata": {},
     "output_type": "execute_result"
    },
    {
     "data": {
      "image/png": "[encoded data removed]",
      "text/plain": [
       "<Figure size 640x480 with 1 Axes>"
      ]
     },
     "metadata": {},
     "output_type": "display_data"
    }
   ],
   "source": [
    "#check No-show column\n",
    "No_show_count = df['No-show'].value_counts()\n",
    "print(No_show_count)\n",
    "df['No-show'].value_counts().plot(kind = 'bar')\n",
    "plt.show"
   ]
  },
  {
   "cell_type": "markdown",
   "id": "43d7998f-8aa0-4b1d-b548-c32042626d1c",
   "metadata": {},
   "source": [
    "-  No, means attend the appoinment. Around 88000 people attended\n",
    "-  Yes, means they missed the appoinment. Around 22000 people missed it."
   ]
  },
  {
   "cell_type": "code",
   "execution_count": 28,
   "id": "58c2593c-6ad7-4010-b702-042fd8dae67d",
   "metadata": {},
   "outputs": [
    {
     "data": {
      "text/plain": [
       "No-show\n",
       "No     79.807483\n",
       "Yes    20.192517\n",
       "Name: count, dtype: float64"
      ]
     },
     "execution_count": 28,
     "metadata": {},
     "output_type": "execute_result"
    }
   ],
   "source": [
    "# calculating the percentage of appointments  \n",
    "100*df['No-show'].value_counts()/len(df['No-show'])"
   ]
  },
  {
   "cell_type": "markdown",
   "id": "48288375-c54a-4035-997a-1bab0d03f870",
   "metadata": {},
   "source": [
    "- We found that 80% of people who scheduled an appointment and 20% missed the appoinment. "
   ]
  },
  {
   "cell_type": "code",
   "execution_count": 29,
   "id": "e0f0c9ec-ef9d-4f8c-808b-1574f23d9b73",
   "metadata": {},
   "outputs": [
    {
     "data": {
      "text/html": [
       "<div>\n",
       "<style scoped>\n",
       "    .dataframe tbody tr th:only-of-type {\n",
       "        vertical-align: middle;\n",
       "    }\n",
       "\n",
       "    .dataframe tbody tr th {\n",
       "        vertical-align: top;\n",
       "    }\n",
       "\n",
       "    .dataframe thead th {\n",
       "        text-align: right;\n",
       "    }\n",
       "</style>\n",
       "<table border=\"1\" class=\"dataframe\">\n",
       "  <thead>\n",
       "    <tr style=\"text-align: right;\">\n",
       "      <th></th>\n",
       "      <th>Column</th>\n",
       "      <th>Percentage of Missing Values</th>\n",
       "    </tr>\n",
       "  </thead>\n",
       "  <tbody>\n",
       "    <tr>\n",
       "      <th>0</th>\n",
       "      <td>Gender</td>\n",
       "      <td>0.0</td>\n",
       "    </tr>\n",
       "    <tr>\n",
       "      <th>1</th>\n",
       "      <td>ScheduledDay</td>\n",
       "      <td>0.0</td>\n",
       "    </tr>\n",
       "    <tr>\n",
       "      <th>2</th>\n",
       "      <td>AppointmentDay</td>\n",
       "      <td>0.0</td>\n",
       "    </tr>\n",
       "    <tr>\n",
       "      <th>3</th>\n",
       "      <td>Age</td>\n",
       "      <td>0.0</td>\n",
       "    </tr>\n",
       "    <tr>\n",
       "      <th>4</th>\n",
       "      <td>Scholarship</td>\n",
       "      <td>0.0</td>\n",
       "    </tr>\n",
       "    <tr>\n",
       "      <th>5</th>\n",
       "      <td>Hypertension</td>\n",
       "      <td>0.0</td>\n",
       "    </tr>\n",
       "    <tr>\n",
       "      <th>6</th>\n",
       "      <td>Diabetes</td>\n",
       "      <td>0.0</td>\n",
       "    </tr>\n",
       "    <tr>\n",
       "      <th>7</th>\n",
       "      <td>Alcoholism</td>\n",
       "      <td>0.0</td>\n",
       "    </tr>\n",
       "    <tr>\n",
       "      <th>8</th>\n",
       "      <td>Handicap</td>\n",
       "      <td>0.0</td>\n",
       "    </tr>\n",
       "    <tr>\n",
       "      <th>9</th>\n",
       "      <td>SMS_received</td>\n",
       "      <td>0.0</td>\n",
       "    </tr>\n",
       "    <tr>\n",
       "      <th>10</th>\n",
       "      <td>No-show</td>\n",
       "      <td>0.0</td>\n",
       "    </tr>\n",
       "    <tr>\n",
       "      <th>11</th>\n",
       "      <td>sch_weekday</td>\n",
       "      <td>0.0</td>\n",
       "    </tr>\n",
       "    <tr>\n",
       "      <th>12</th>\n",
       "      <td>app_weekday</td>\n",
       "      <td>0.0</td>\n",
       "    </tr>\n",
       "  </tbody>\n",
       "</table>\n",
       "</div>"
      ],
      "text/plain": [
       "            Column  Percentage of Missing Values\n",
       "0           Gender                           0.0\n",
       "1     ScheduledDay                           0.0\n",
       "2   AppointmentDay                           0.0\n",
       "3              Age                           0.0\n",
       "4      Scholarship                           0.0\n",
       "5     Hypertension                           0.0\n",
       "6         Diabetes                           0.0\n",
       "7       Alcoholism                           0.0\n",
       "8         Handicap                           0.0\n",
       "9     SMS_received                           0.0\n",
       "10         No-show                           0.0\n",
       "11     sch_weekday                           0.0\n",
       "12     app_weekday                           0.0"
      ]
     },
     "execution_count": 29,
     "metadata": {},
     "output_type": "execute_result"
    }
   ],
   "source": [
    "#check missing data in dataframe\n",
    "missing = pd.DataFrame((df.isnull().sum() * 100) / df.shape[0]).reset_index()\n",
    "missing.columns = ['Column', 'Percentage of Missing Values']\n",
    "missing"
   ]
  },
  {
   "cell_type": "markdown",
   "id": "7a613af4-b6bd-4062-986e-a50dea3b2146",
   "metadata": {},
   "source": [
    "- AS we can see there are no missing values in our data set.no need to Use with box plot."
   ]
  },
  {
   "cell_type": "markdown",
   "id": "033ddeab-548f-4196-8488-cbd8c34dcbfb",
   "metadata": {},
   "source": [
    "## 3.1 Binning:"
   ]
  },
  {
   "cell_type": "code",
   "execution_count": 30,
   "id": "73681c17-7e30-4e97-ab24-f096b9bafa6d",
   "metadata": {},
   "outputs": [
    {
     "data": {
      "text/plain": [
       "Age\n",
       "50-60    15639\n",
       "30-40    15027\n",
       "40-50    14402\n",
       "<30      13771\n",
       ">60      11167\n",
       "Name: count, dtype: int64"
      ]
     },
     "execution_count": 30,
     "metadata": {},
     "output_type": "execute_result"
    }
   ],
   "source": [
    "# creat the bins for age column\n",
    "df.Age=pd.cut(df.Age,bins=[20,30,40,50,60,70],labels=['<30','30-40','40-50','50-60','>60'])\n",
    "df.Age.value_counts()"
   ]
  },
  {
   "cell_type": "code",
   "execution_count": 31,
   "id": "3f1dd889-2ae6-4d9e-bba5-1495d7382ded",
   "metadata": {},
   "outputs": [
    {
     "data": {
      "text/plain": [
       "<Axes: xlabel='Age'>"
      ]
     },
     "execution_count": 31,
     "metadata": {},
     "output_type": "execute_result"
    },
    {
     "data": {
      "image/png": "[encoded data removed]",
      "text/plain": [
       "<Figure size 640x480 with 1 Axes>"
      ]
     },
     "metadata": {},
     "output_type": "display_data"
    }
   ],
   "source": [
    "df.Age.value_counts().plot.bar()"
   ]
  },
  {
   "cell_type": "markdown",
   "id": "9b40c11c-c3f3-493f-a549-8cbe126eb65f",
   "metadata": {},
   "source": [
    "- The majority of the data falls within the age range of 50 to 60, with approximately 15,600 individuals in this category.\n",
    "- The second highest number of people, around 15,000, falls within the age range of 30 to 40.\n",
    "- The age range of 40 to 50 follows, but it's notable that individuals above 60 years old, who might be expected to have regular check-ups, are significantly fewer in number in this dataset."
   ]
  },
  {
   "cell_type": "markdown",
   "id": "f684f374-534a-4255-98d4-9810c2069ea2",
   "metadata": {},
   "source": [
    "## 3.3 Bivariate Analysis:"
   ]
  },
  {
   "cell_type": "code",
   "execution_count": 32,
   "id": "40b90190-2a3f-49c9-a5ac-1071d05a8d6d",
   "metadata": {},
   "outputs": [
    {
     "name": "stdout",
     "output_type": "stream",
     "text": [
      "<class 'pandas.core.frame.DataFrame'>\n",
      "Index: 110328 entries, 0 to 110526\n",
      "Data columns (total 13 columns):\n",
      " #   Column          Non-Null Count   Dtype         \n",
      "---  ------          --------------   -----         \n",
      " 0   Gender          110328 non-null  object        \n",
      " 1   ScheduledDay    110328 non-null  datetime64[ns]\n",
      " 2   AppointmentDay  110328 non-null  datetime64[ns]\n",
      " 3   Age             70006 non-null   category      \n",
      " 4   Scholarship     110328 non-null  int64         \n",
      " 5   Hypertension    110328 non-null  int64         \n",
      " 6   Diabetes        110328 non-null  int64         \n",
      " 7   Alcoholism      110328 non-null  int64         \n",
      " 8   Handicap        110328 non-null  int64         \n",
      " 9   SMS_received    110328 non-null  int64         \n",
      " 10  No-show         110328 non-null  object        \n",
      " 11  sch_weekday     110328 non-null  int32         \n",
      " 12  app_weekday     110328 non-null  int32         \n",
      "dtypes: category(1), datetime64[ns](2), int32(2), int64(6), object(2)\n",
      "memory usage: 10.2+ MB\n"
     ]
    }
   ],
   "source": [
    "df.info()"
   ]
  },
  {
   "cell_type": "markdown",
   "id": "84bdb0da-9356-4aff-aafa-2b40f345ea17",
   "metadata": {},
   "source": [
    "- As everything is good we can go with further analysis\n",
    "- For further analysis, we will use the \"No-show\" column as the target variable."
   ]
  },
  {
   "cell_type": "code",
   "execution_count": 91,
   "id": "81e15595-e722-45fb-b403-fd01f6900c4c",
   "metadata": {},
   "outputs": [
    {
     "data": {
      "text/plain": [
       "<Axes: title={'center': 'No-show'}, xlabel='No-show', ylabel='count'>"
      ]
     },
     "execution_count": 91,
     "metadata": {},
     "output_type": "execute_result"
    },
    {
     "data": {
      "image/png": "[encoded data removed]",
      "text/plain": [
       "<Figure size 600x400 with 1 Axes>"
      ]
     },
     "metadata": {},
     "output_type": "display_data"
    }
   ],
   "source": [
    "# no-Show rate based on gender column.\n",
    "plt.figure(figsize=(6,4))\n",
    "plt.title('No-show')\n",
    "sns.countplot(x=df['No-show'], hue=df.Gender)"
   ]
  },
  {
   "cell_type": "markdown",
   "id": "a4cdb040-8608-4a6f-8657-c1c4e87ca6d5",
   "metadata": {},
   "source": [
    "-  From this analysis, it appears that more females appointed for the check up around 55000 and around 30000 male.\n",
    "-  On other hand, aroung 14000 femles were missed the apppoinment and 7000 male.\n",
    "-  From this data, we can infer that gender might have an effect on attendance. Specifically, there seems to be a higher number of females attending appointments compared to males."
   ]
  },
  {
   "cell_type": "code",
   "execution_count": 92,
   "id": "aa0d6d9c-1ed7-4eeb-84b0-11263d1ed07e",
   "metadata": {},
   "outputs": [
    {
     "data": {
      "text/plain": [
       "<Axes: title={'center': 'No-show'}, xlabel='No-show', ylabel='count'>"
      ]
     },
     "execution_count": 92,
     "metadata": {},
     "output_type": "execute_result"
    },
    {
     "data": {
      "image/png": "[encoded data removed]",
      "text/plain": [
       "<Figure size 600x400 with 1 Axes>"
      ]
     },
     "metadata": {},
     "output_type": "display_data"
    }
   ],
   "source": [
    "# no-show rate in Age column\n",
    "plt.figure(figsize=(6,4))\n",
    "plt.title('No-show')\n",
    "sns.countplot(x=df['No-show'], hue=df.Age)"
   ]
  },
  {
   "cell_type": "markdown",
   "id": "1afb990b-50e6-4066-893b-9a1431c70885",
   "metadata": {},
   "source": [
    "- **In the age group between 50 to 60 years:**\n",
    "- Approximately 16,000 people booked appointments.\n",
    "- Out of these, about 14,000 people attended their appointments. Around 2,000 people missed their appointments.\n",
    "- This suggests a strong attendance rate within this age category, indicating that the bookings are likely genuine rather than fraudulent.\n",
    "- **In the age group under 30 (teenagers):**\n",
    "- Approximately 14,000 students booked appointments.\n",
    "- Out of these, about 10,000 students attended their appointments.Around 4,000 students missed their appointments.\n",
    "- Also, we have data for 10,000 issued scholership.\n",
    "- This indicates a higher no-show rate among teenagers compared to the age group between 50 to 60 years. The issuance of scholarships could be a factor to consider when analyzing attendance patterns, potentially influencing attendance behavior in this demographic."
   ]
  },
  {
   "cell_type": "code",
   "execution_count": 102,
   "id": "8c1a5e18-4d06-450d-a617-e6f96531a6b0",
   "metadata": {},
   "outputs": [
    {
     "data": {
      "text/plain": [
       "<Axes: title={'center': 'No-show'}, xlabel='Diabetes', ylabel='count'>"
      ]
     },
     "execution_count": 102,
     "metadata": {},
     "output_type": "execute_result"
    },
    {
     "data": {
      "image/png": "[encoded data removed]",
      "text/plain": [
       "<Figure size 1200x400 with 2 Axes>"
      ]
     },
     "metadata": {},
     "output_type": "display_data"
    }
   ],
   "source": [
    "# major deases accoding to age\n",
    "plt.figure(figsize=(12,4))\n",
    "plt.subplot(1,2,1)\n",
    "plt.title('No-show')\n",
    "sns.countplot(x=df['Hypertension'], hue=df.Age)\n",
    "\n",
    "plt.subplot(1,2,2)\n",
    "plt.title('No-show') \n",
    "sns.countplot(x=df['Diabetes'], hue=df.Age)"
   ]
  },
  {
   "cell_type": "markdown",
   "id": "b7354107-73c5-404e-ae66-41dc12dd9acd",
   "metadata": {},
   "source": [
    "- **Hypertension and diabetes are distributed across different age groups.**\n",
    "- Ages 0 to 30: No reported cases of hypertension or diabetes.\n",
    "- Ages 30 to 40: Out of 15,000 people, 1,000 suffer from hypertension, with very few cases of diabetes.\n",
    "- Ages 40 to 50: Of the 14,000 people in this age range, 3,000 have hypertension and 1,000 have diabetes. It indicates that while diabetes remains rare, hypertension begins to rise significantly from age 40.\n",
    "-  Ages 50 to 60: Among 16,000 people, 6,000 suffer from hypertension, and around 2,000 have diabetes.\n",
    "-  Ages 50+: There's a significant increase in hypertension cases and a noticeable rise in diabetes cases.  "
   ]
  },
  {
   "cell_type": "code",
   "execution_count": 108,
   "id": "3c5d51f2-b2a5-4691-82fb-ef1ae10e4209",
   "metadata": {},
   "outputs": [
    {
     "data": {
      "text/plain": [
       "<Axes: title={'center': 'Diabetes by Age and Gender'}, xlabel='Age', ylabel='Diabetes'>"
      ]
     },
     "execution_count": 108,
     "metadata": {},
     "output_type": "execute_result"
    },
    {
     "data": {
      "image/png": "[encoded data removed]",
      "text/plain": [
       "<Figure size 1200x400 with 2 Axes>"
      ]
     },
     "metadata": {},
     "output_type": "display_data"
    }
   ],
   "source": [
    "# major deases accoding to gender and age\n",
    "plt.figure(figsize=(12,4))\n",
    "plt.subplot(1,2,1)\n",
    "plt.title('Hypertension by Age and Gender')\n",
    "sns.barplot(x=df.Age,y=df.Hypertension,hue=df.Gender, palette='viridis')\n",
    "\n",
    "plt.subplot(1,2,2)\n",
    "plt.title('Diabetes by Age and Gender')\n",
    "sns.barplot(x=df.Age,y=df.Diabetes,hue=df.Gender, palette='viridis')"
   ]
  },
  {
   "cell_type": "markdown",
   "id": "dbf19657-60ed-45f9-8976-e88770526cbe",
   "metadata": {},
   "source": [
    "- **Hypertension and diabetes are distributed across different age groups and in gender.**\n",
    "- General Observation: Females have a higher prevalence of both hypertension and diabetes compared to males.\n",
    "- Ages 30+: Females have a higher likelihood of developing hypertension and diabetes starting from the age of 30 compared to males.\n",
    "- Ages 40 to 50: The incidence of diabetes is similar for both males and females in this age group.\n",
    "- Ages 60+: Females have a significantly higher chance of having hypertension and diabetes than males.\n",
    "- Overall Trend: As age increases, the incidence of both hypertension and diabetes increases significantly for both genders."
   ]
  },
  {
   "cell_type": "code",
   "execution_count": 111,
   "id": "c42de663-77d3-4ee7-868d-c6e4bb844917",
   "metadata": {},
   "outputs": [
    {
     "data": {
      "text/plain": [
       "<Axes: title={'center': 'Age wise Scholership'}, xlabel='Age', ylabel='Scholarship'>"
      ]
     },
     "execution_count": 111,
     "metadata": {},
     "output_type": "execute_result"
    },
    {
     "data": {
      "image/png": "[encoded data removed]",
      "text/plain": [
       "<Figure size 600x400 with 1 Axes>"
      ]
     },
     "metadata": {},
     "output_type": "display_data"
    }
   ],
   "source": [
    "# provided Scholership to age group\n",
    "plt.figure(figsize=(6,4))\n",
    "plt.title('Age wise Scholership')\n",
    "sns.barplot(x=df.Age,y=df.Scholarship, palette='viridis')"
   ]
  },
  {
   "cell_type": "markdown",
   "id": "5258a538-f0c5-4dac-b68d-14510713e433",
   "metadata": {},
   "source": [
    "- **Age wise Scholership**\n",
    "- highlight trends in the utilization of scholarships or financial aid for medical appointments across different age groups.\n",
    "- Age Group 30-40: A significant number of people in this age group receive scholarships or financial aid for medical appointments. Also, This age group also shows a high likelihood of scheduling medical appointments.\n",
    "- Under 30 and 40-50 Age Groups: There is a notable trend where a considerable number of individuals, particularly students (under 30) and those aged 40-60, apply for scholarships but do not schedule medical appointments.\n",
    "- Lack of Interest (Age 40+): Individuals aged 40 and above show a decreased interest in applying for scholarships or financial aid from hospitals."
   ]
  },
  {
   "cell_type": "code",
   "execution_count": 116,
   "id": "79f96a9c-ee48-4f18-9548-f5a2b073a7ce",
   "metadata": {},
   "outputs": [
    {
     "data": {
      "text/plain": [
       "<Axes: title={'center': 'Alcoholism by Age and Gender'}, xlabel='Age', ylabel='Alcoholism'>"
      ]
     },
     "execution_count": 116,
     "metadata": {},
     "output_type": "execute_result"
    },
    {
     "data": {
      "image/png": "[encoded data removed]",
      "text/plain": [
       "<Figure size 600x400 with 1 Axes>"
      ]
     },
     "metadata": {},
     "output_type": "display_data"
    }
   ],
   "source": [
    "# Alcoholism problem according to gender and age\n",
    "plt.figure(figsize=(6,4))\n",
    "plt.title('Alcoholism by Age and Gender')\n",
    "sns.barplot(x=df.Age,y=df.Alcoholism,hue=df.Gender, palette='viridis')"
   ]
  },
  {
   "cell_type": "markdown",
   "id": "b682a390-2523-44bd-bc5b-f6890e1da382",
   "metadata": {},
   "source": [
    "- **Alcoholism problem distributed across different age groups and in gender.**\n",
    "- Ages 50+: The bar graph clearly shows that most males over 50 tend to become addicted to alcohol.\n",
    "- Overall Prevalence: Only 3% of the people in our dataset (around 3,300 individuals) are suffering from alcoholism problem.\n",
    "- Females: Females are more likely to quit alcohol after the age of 50."
   ]
  },
  {
   "cell_type": "markdown",
   "id": "c28c916b-1fd4-4f67-88a4-ca17718ad0eb",
   "metadata": {},
   "source": [
    "# 4.Communicate Insights:"
   ]
  },
  {
   "cell_type": "markdown",
   "id": "204d9a44-b5f2-4215-81de-3d3e09f059fc",
   "metadata": {},
   "source": [
    "## 4.1 Executive Summary:"
   ]
  },
  {
   "cell_type": "markdown",
   "id": "0d91ac69-4b58-40a0-bddc-88fc3191e581",
   "metadata": {},
   "source": [
    "1) **Rate of diseases affect on the attendance?**\n",
    "-  Among approximately 88,726 patients without hypertension, about 78% attended their visits. Conversely, out of 21,801 patients with hypertension, around 85% attended their appointments.\n",
    "-  Among approximately 102,584 patients without diabetes, about 80% attended their visits. In contrast, out of 7,943 patients with diabetes, around 83% showed up for their appointments.\n",
    "2) **Which age and gender used to come in the hospital?**\n",
    "- The majority of patients visiting the hospital are females, especially those aged between 50 and 60, primarily dealing with hypertension and diabetes.\n",
    "3) **Is receiving sms affect on attendance?**\n",
    "- This has impacted the appointment numbers, as our data shows that 35,435 people did not receive an SMS, and 22,278 people missed their appointments. We can infer that around 11,000 people might have missed their appointments, with the lack of SMS notification potentially being a contributing factor.\n",
    "4) **Gender affect on the attendance?**\n",
    "-  Yes, it affects appointment attendance to some extent. Out of approximately 55,000 females and 30,000 males who scheduled check-ups, about 14,000 females and 7,000 males missed their appointments. This suggests that females, possibly due to household and other responsibilities, have a higher rate of missed appointmentse.\n",
    "5) *Hhow many customers atcually booked appoinment and did not come?**\n",
    "- Around 110,328 customers booked appointments, with 80% attending and 20% missing their appointments. The majority of visitors were females over the age of 40.e\n",
    "6) **Any of diseases affect on attendance with their age and gender?**\n",
    "- Yes, according to the data, individuals over 40 often face hypertension and diabetes (or health problems). Additionally, the data suggests that alcohol consumption could be a contributing factor to these health issues, indicating that people should avoid alcohol after the age of 40.r"
   ]
  },
  {
   "cell_type": "markdown",
   "id": "a3bfbc3d-a7e9-4934-8525-e1ca518da3d0",
   "metadata": {},
   "source": [
    "## 4.2 Actionable Recommendations:"
   ]
  },
  {
   "cell_type": "markdown",
   "id": "30b0ae4b-85f4-467a-8556-45fad75ab1b9",
   "metadata": {},
   "source": [
    "-  **Home Check-Up Services for Household Women:** Providing home check-up services tailored for household women addresses their specific needs and may increase their access to healthcare, improving overall health outcomes.\n",
    "\n",
    "-  **Enhance the SMS System:** Improving the SMS system for appointment reminders and notifications can help reduce missed appointments and improve patient adherence, leading to better healthcare management and efficiency.\n",
    "\n",
    "-  **Scholarships for Individuals Aged 35 to 55:** Offering scholarships to individuals in this age range can help support career development or educational opportunities for those who may be underrepresented or in need of financial assistance, potentially leading to a more skilled and educated workforce.\n",
    "\n",
    "-  **Campaign to Quit Alcohol for Ages 40 to 60:** Running a campaign encouraging individuals aged 40 to 60 to quit alcohol can address a significant health risk factor, potentially reducing the incidence of related health issues such as hypertension and diabetes."
   ]
  },
  {
   "cell_type": "markdown",
   "id": "7c1531b7-5a6c-4303-a9e9-a15ca0f35b78",
   "metadata": {},
   "source": [
    "### Auother:-"
   ]
  },
  {
   "cell_type": "markdown",
   "id": "56067a06-a029-4af0-97a2-1c9d9288c809",
   "metadata": {},
   "source": [
    "### Axar Patel"
   ]
  }
 ],
 "metadata": {
  "kernelspec": {
   "display_name": "Python 3 (ipykernel)",
   "language": "python",
   "name": "python3"
  },
  "language_info": {
   "codemirror_mode": {
    "name": "ipython",
    "version": 3
   },
   "file_extension": ".py",
   "mimetype": "text/x-python",
   "name": "python",
   "nbconvert_exporter": "python",
   "pygments_lexer": "ipython3",
   "version": "3.11.7"
  }
 },
 "nbformat": 4,
 "nbformat_minor": 5
}
